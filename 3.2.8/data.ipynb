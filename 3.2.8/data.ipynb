{
 "cells": [
  {
   "cell_type": "markdown",
   "metadata": {},
   "source": [
    "# Все значения времени нужно поделить на 5"
   ]
  },
  {
   "cell_type": "markdown",
   "metadata": {},
   "source": [
    "### 1) Снимим доступную в данной схеме часть вольт-амперной хар-ки стабилитрона с сопротивлением r = 5.2 кОм, при возрастании и убывании напряжения V. \n",
    "Стараемся максимально точно определить потенциалы зажигания V1 и гашения V2 лампы. А также соответствующие им токи I1, I2."
   ]
  },
  {
   "cell_type": "code",
   "execution_count": 1,
   "metadata": {},
   "outputs": [],
   "source": [
    "import pandas as pd\n",
    "import numpy as np\n",
    "import matplotlib.pyplot as plt"
   ]
  },
  {
   "cell_type": "code",
   "execution_count": 2,
   "metadata": {},
   "outputs": [],
   "source": [
    "def prepare_plot(name_x, name_y):\n",
    "    fig, ax = plt.subplots(figsize = (8, 5))\n",
    "    ax.minorticks_on()\n",
    "    ax.grid(which = 'major')\n",
    "    ax.grid(which = 'minor', linestyle = ':')\n",
    "    ax.set_xlabel(name_x)\n",
    "    ax.set_ylabel(name_y)\n",
    "    return ax\n",
    "\n",
    "def drow_graph(ax_cur, x, y, x_err, y_err, line_color):\n",
    "    ax_cur.errorbar(x, y, xerr=x_err, yerr=y_err, fmt='o', color=line_color)\n",
    "\n",
    "def drow_line(ax_cur, x, y, x_err, y_err, line_color):\n",
    "    ax_cur.errorbar(x, y, xerr=x_err, yerr=y_err, fmt='o', color=line_color)\n",
    "    p = np.polyfit(x, y, 1)\n",
    "    ya = np.polyval(p, x)\n",
    "    ax_cur.plot(x, ya, linestyle='dashed', color=line_color)\n",
    "    k = (ya[1] - ya[0]) / (x[1] - x[0])\n",
    "    print(k, '(' + line_color + ')')"
   ]
  },
  {
   "cell_type": "code",
   "execution_count": 3,
   "metadata": {},
   "outputs": [
    {
     "data": {
      "text/html": [
       "<div>\n",
       "<style scoped>\n",
       "    .dataframe tbody tr th:only-of-type {\n",
       "        vertical-align: middle;\n",
       "    }\n",
       "\n",
       "    .dataframe tbody tr th {\n",
       "        vertical-align: top;\n",
       "    }\n",
       "\n",
       "    .dataframe thead th {\n",
       "        text-align: right;\n",
       "    }\n",
       "</style>\n",
       "<table border=\"1\" class=\"dataframe\">\n",
       "  <thead>\n",
       "    <tr style=\"text-align: right;\">\n",
       "      <th></th>\n",
       "      <th>v_up</th>\n",
       "      <th>i_up</th>\n",
       "      <th>v_down</th>\n",
       "      <th>i_down</th>\n",
       "    </tr>\n",
       "  </thead>\n",
       "  <tbody>\n",
       "    <tr>\n",
       "      <th>0</th>\n",
       "      <td>0.01</td>\n",
       "      <td>0.010</td>\n",
       "      <td>92.84</td>\n",
       "      <td>3.976</td>\n",
       "    </tr>\n",
       "    <tr>\n",
       "      <th>1</th>\n",
       "      <td>8.60</td>\n",
       "      <td>0.012</td>\n",
       "      <td>88.91</td>\n",
       "      <td>3.220</td>\n",
       "    </tr>\n",
       "    <tr>\n",
       "      <th>2</th>\n",
       "      <td>12.20</td>\n",
       "      <td>0.013</td>\n",
       "      <td>86.27</td>\n",
       "      <td>2.710</td>\n",
       "    </tr>\n",
       "    <tr>\n",
       "      <th>3</th>\n",
       "      <td>18.90</td>\n",
       "      <td>0.013</td>\n",
       "      <td>84.75</td>\n",
       "      <td>2.450</td>\n",
       "    </tr>\n",
       "    <tr>\n",
       "      <th>4</th>\n",
       "      <td>21.50</td>\n",
       "      <td>0.013</td>\n",
       "      <td>83.30</td>\n",
       "      <td>0.019</td>\n",
       "    </tr>\n",
       "    <tr>\n",
       "      <th>5</th>\n",
       "      <td>40.00</td>\n",
       "      <td>0.015</td>\n",
       "      <td>NaN</td>\n",
       "      <td>NaN</td>\n",
       "    </tr>\n",
       "    <tr>\n",
       "      <th>6</th>\n",
       "      <td>60.00</td>\n",
       "      <td>0.017</td>\n",
       "      <td>NaN</td>\n",
       "      <td>NaN</td>\n",
       "    </tr>\n",
       "    <tr>\n",
       "      <th>7</th>\n",
       "      <td>77.60</td>\n",
       "      <td>0.018</td>\n",
       "      <td>NaN</td>\n",
       "      <td>NaN</td>\n",
       "    </tr>\n",
       "    <tr>\n",
       "      <th>8</th>\n",
       "      <td>88.32</td>\n",
       "      <td>3.080</td>\n",
       "      <td>NaN</td>\n",
       "      <td>NaN</td>\n",
       "    </tr>\n",
       "    <tr>\n",
       "      <th>9</th>\n",
       "      <td>91.62</td>\n",
       "      <td>3.720</td>\n",
       "      <td>NaN</td>\n",
       "      <td>NaN</td>\n",
       "    </tr>\n",
       "    <tr>\n",
       "      <th>10</th>\n",
       "      <td>94.10</td>\n",
       "      <td>4.216</td>\n",
       "      <td>NaN</td>\n",
       "      <td>NaN</td>\n",
       "    </tr>\n",
       "    <tr>\n",
       "      <th>11</th>\n",
       "      <td>97.57</td>\n",
       "      <td>4.846</td>\n",
       "      <td>NaN</td>\n",
       "      <td>NaN</td>\n",
       "    </tr>\n",
       "  </tbody>\n",
       "</table>\n",
       "</div>"
      ],
      "text/plain": [
       "     v_up   i_up  v_down  i_down\n",
       "0    0.01  0.010   92.84   3.976\n",
       "1    8.60  0.012   88.91   3.220\n",
       "2   12.20  0.013   86.27   2.710\n",
       "3   18.90  0.013   84.75   2.450\n",
       "4   21.50  0.013   83.30   0.019\n",
       "5   40.00  0.015     NaN     NaN\n",
       "6   60.00  0.017     NaN     NaN\n",
       "7   77.60  0.018     NaN     NaN\n",
       "8   88.32  3.080     NaN     NaN\n",
       "9   91.62  3.720     NaN     NaN\n",
       "10  94.10  4.216     NaN     NaN\n",
       "11  97.57  4.846     NaN     NaN"
      ]
     },
     "execution_count": 3,
     "metadata": {},
     "output_type": "execute_result"
    }
   ],
   "source": [
    "df = pd.DataFrame()\n",
    "\n",
    "v_up = \"v_up\" # V\n",
    "i_up = \"i_up\" # A\n",
    "v_down = \"v_down\" # V\n",
    "i_down = \"i_down\" # A\n",
    "\n",
    "data_up = [(0.01, 0.01), (8.6, 0.012), (12.2, 0.013), (18.9, 0.013), (21.5, 0.013), (40, 0.015), (60, 0.017), (77.6, 0.018), (88.32, 3.08), (91.62, 3.72), \\\n",
    "   (94.1, 4.216), (97.57, 4.846)]      # Растем\n",
    "# bad values from data_up: (90.55, 0.020), (96.30, 0.020)\n",
    "data_down = [(92.84, 3.976), (88.91, 3.22), (86.27, 2.71), (84.75, 2.45), (83.3, 0.019)]    # Падаем\n",
    "\n",
    "df[v_up], df[i_up] = np.array([i[0] for i in data_up]), np.array([i[1] for i in data_up])\n",
    "\n",
    "df[v_down] = np.array([i[0] for i in data_down] + [float('NaN')] * (len(data_up) - len(data_down)))\n",
    "df[i_down] = np.array([i[1] for i in data_down] + [float('NaN')] * (len(data_up) - len(data_down)))\n",
    "\n",
    "\n",
    "df"
   ]
  },
  {
   "cell_type": "code",
   "execution_count": 4,
   "metadata": {},
   "outputs": [
    {
     "data": {
      "image/png": "[encoded data removed]",
      "text/plain": [
       "<Figure size 800x500 with 1 Axes>"
      ]
     },
     "metadata": {},
     "output_type": "display_data"
    }
   ],
   "source": [
    "ax_1 = prepare_plot(\"U, v\", \"I, A\")\n",
    "drow_graph(ax_1, df[v_up], df[i_up], 0, 0, \"green\")\n",
    "drow_graph(ax_1, df[v_down], df[i_down], 0, 0, \"red\")"
   ]
  },
  {
   "cell_type": "markdown",
   "metadata": {},
   "source": [
    "### 2) Соберем установку с параметрами С = 50 нФ, магазин сопротивлений R = 900 кОм. \n",
    "Подключим осциллограф в измерительном режиме, выходное напряжение U = 1.2*V1."
   ]
  },
  {
   "cell_type": "markdown",
   "metadata": {},
   "source": [
    "+1) Оценить соотношение времен зарядки и разрядки $t_z$, $t_r$.\n",
    "\n",
    "$t_z = 22 * 10 \\ mSec$\n",
    "\n",
    "$t_r = 1 * 10 \\ mSec$\n",
    "\n",
    "$t_z/t_r = 22$\n",
    "\n",
    "+2) Сфоткать картину осциллографа.\n",
    "\n",
    "3) По масштабу осцилограммы оценить T = $t_z$ + $t_r$ = $23 * 10\\ mSec = 230\\ mSec$\n",
    "\n",
    "$\\nu$ = 1/T"
   ]
  },
  {
   "cell_type": "markdown",
   "metadata": {},
   "source": [
    "## Действия:\n",
    "Уменьшая сопротивление магазина R, определим $R_{kr}$, при котором пропадают колебания\n",
    "\n",
    "$R_{kr} = 192\\ kOm$"
   ]
  },
  {
   "cell_type": "markdown",
   "metadata": {},
   "source": [
    "1) При R = 650 kOm, проведем серию измерений $\\nu(C)$, where C is changing from 50 нФ до 2 нФ, поддерживая U постоянным.\n",
    "2) Аналогично серия измерений $\\nu(R)$ при C = 50 нФ, меняя R от макс до критического при постоянном напряжении U"
   ]
  },
  {
   "cell_type": "code",
   "execution_count": 5,
   "metadata": {},
   "outputs": [],
   "source": [
    "import math\n",
    "# нФ mSec\n",
    "data_2 = [(50, 32 * 5), (44, 28.5 * 5), (38, 25 * 5), (32, 21 * 5), (26, 17 * 5), (20, 32 * 2), (18, 29 * 2), (12, 18 * 2), (4, 21 * 0.5)]\n",
    "\n",
    "# kOm mSec\n",
    "data_3 = [(900, 24 * 10), (800, 41 * 5), (700, 18 * 10), (600, 30 * 5), (500, 26 * 5), (400, 21 * 5), (300, 16 * 5), (200, 25 * 2)]\n",
    "\n",
    "ct = pd.DataFrame()\n",
    "c, t = \"C, mF\", \"t, sec\"\n",
    "t_teor = \"t_teor, sec\"\n",
    "rt = pd.DataFrame()\n",
    "r = \"R, Om\"\n",
    "\n",
    "ct[c] = [i[0] for i in data_2]\n",
    "ct[t] = [i[1] for i in data_2]\n",
    "ct[t_teor] = [i[0] * 650000 * math.log()  for i in data_2]\n",
    "\n",
    "rt[r] = [i[0] for i in data_3]\n",
    "rt[c] = [i[1] for i in data_3]\n",
    "\n"
   ]
  }
 ],
 "metadata": {
  "kernelspec": {
   "display_name": "Python 3",
   "language": "python",
   "name": "python3"
  },
  "language_info": {
   "codemirror_mode": {
    "name": "ipython",
    "version": 3
   },
   "file_extension": ".py",
   "mimetype": "text/x-python",
   "name": "python",
   "nbconvert_exporter": "python",
   "pygments_lexer": "ipython3",
   "version": "3.8.10"
  },
  "orig_nbformat": 4,
  "vscode": {
   "interpreter": {
    "hash": "916dbcbb3f70747c44a77c7bcd40155683ae19c65e1c03b4aa3499c5328201f1"
   }
  }
 },
 "nbformat": 4,
 "nbformat_minor": 2
}
