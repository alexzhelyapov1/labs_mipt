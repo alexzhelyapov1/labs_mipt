{
 "cells": [
  {
   "cell_type": "markdown",
   "metadata": {},
   "source": [
    "## Значения, полученные экспериментально"
   ]
  },
  {
   "cell_type": "code",
   "execution_count": 7,
   "metadata": {},
   "outputs": [],
   "source": [
    "import pandas as pd\n",
    "import numpy as np\n",
    "import matplotlib.pyplot as plt\n",
    "import math"
   ]
  },
  {
   "cell_type": "markdown",
   "metadata": {},
   "source": [
    "### Калибровка"
   ]
  },
  {
   "cell_type": "code",
   "execution_count": 9,
   "metadata": {},
   "outputs": [
    {
     "name": "stdout",
     "output_type": "stream",
     "text": [
      "Hello\n",
      "Len 1 = 17, len 2 = 17\n"
     ]
    }
   ],
   "source": [
    "df_calibration = pd.DataFrame()\n",
    "df_calibration[\"I\"] = np.array([0, 10, 30, 50, 70, 100, 120, 150, 160, 180, 200, 230, 250, 270, 300, 330, 370])     # mA\n",
    "df_calibration[\"B\"] = np.array([12.28, 18.55, 43.6, 69.5, 89.1, 126.5, 154.6, 191.8, 204, 223, 248, 280, 301, 314, 332, 344, 358])  #mT\n",
    "print(\"Len 1 = %d, len 2 = %d\" %(len(df_calibration[\"I\"]), len(df_calibration[\"B\"])))"
   ]
  },
  {
   "cell_type": "markdown",
   "metadata": {},
   "source": [
    "### Диск Корбино"
   ]
  },
  {
   "cell_type": "code",
   "execution_count": 11,
   "metadata": {},
   "outputs": [
    {
     "name": "stdout",
     "output_type": "stream",
     "text": [
      "Len 1 = 17, len 2 = 17\n"
     ]
    }
   ],
   "source": [
    "df_corbino = pd.DataFrame()\n",
    "df_corbino[\"I\"] = np.array([0, 10, 20, 40, 70, 90, 100, 130, 150, 160, 200, 230, 250, 280, 310, 350, 360])\n",
    "df_corbino[\"U\"] = np.array([780, 793, 814, 896, 1030, 1162, 1225, 1493, 1720, 1877, 2313, 2642, 2848, 3128, 3317, 3524, 3556])      # delta U in mkV\n",
    "print(\"Len 1 = %d, len 2 = %d\" %(len(df_corbino[\"I\"]), len(df_corbino[\"U\"])))"
   ]
  },
  {
   "cell_type": "markdown",
   "metadata": {},
   "source": [
    "### Пластина поперек"
   ]
  },
  {
   "cell_type": "code",
   "execution_count": 12,
   "metadata": {},
   "outputs": [
    {
     "name": "stdout",
     "output_type": "stream",
     "text": [
      "Len 1 = 17, len 2 = 17\n"
     ]
    }
   ],
   "source": [
    "df_plate1 = pd.DataFrame()\n",
    "df_plate1[\"I\"] = np.array([0, 20, 50, 70, 80, 100, 110, 130, 140, 170, 190, 210, 230, 260, 300, 330, 360])\n",
    "df_plate1[\"U\"] = np.array([690, 696, 740, 760, 790, 837, 873, 907, 994, 1018, 1080, 1135, 1168, 1240, 1303, 1340, 1366])\n",
    "print(\"Len 1 = %d, len 2 = %d\" %(len(df_plate1[\"I\"]), len(df_plate1[\"U\"])))"
   ]
  },
  {
   "cell_type": "markdown",
   "metadata": {},
   "source": [
    "### Пластина продольно\n"
   ]
  },
  {
   "cell_type": "code",
   "execution_count": 15,
   "metadata": {},
   "outputs": [
    {
     "name": "stdout",
     "output_type": "stream",
     "text": [
      "Len 1 = 18, len 2 = 18\n"
     ]
    }
   ],
   "source": [
    "df_plate2 = pd.DataFrame()\n",
    "df_plate2[\"I\"] = np.array([0, 10, 30, 50, 80, 90, 110, 140, 160, 180, 200, 230, 240, 250, 270, 290, 320, 350])\n",
    "df_plate2[\"U\"] = np.array([685, 690, 721, 733, 762, 773, 786, 820, 842, 870, 892, 920, 932, 942, 963, 975, 993, 1010])\n",
    "print(\"Len 1 = %d, len 2 = %d\" %(len(df_plate2[\"I\"]), len(df_plate2[\"U\"])))"
   ]
  }
 ],
 "metadata": {
  "kernelspec": {
   "display_name": "Python 3.8.10 64-bit",
   "language": "python",
   "name": "python3"
  },
  "language_info": {
   "codemirror_mode": {
    "name": "ipython",
    "version": 3
   },
   "file_extension": ".py",
   "mimetype": "text/x-python",
   "name": "python",
   "nbconvert_exporter": "python",
   "pygments_lexer": "ipython3",
   "version": "3.8.10"
  },
  "orig_nbformat": 4,
  "vscode": {
   "interpreter": {
    "hash": "31f2aee4e71d21fbe5cf8b01ff0e069b9275f58929596ceb00d14d90e3e16cd6"
   }
  }
 },
 "nbformat": 4,
 "nbformat_minor": 2
}
