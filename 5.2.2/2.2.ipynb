{
 "cells": [
  {
   "cell_type": "markdown",
   "metadata": {},
   "source": [
    "# Data"
   ]
  },
  {
   "cell_type": "code",
   "execution_count": 27,
   "metadata": {},
   "outputs": [],
   "source": [
    "colors_degrees = {}\n",
    "gap_open = 0.2 * 0.01 # mm\n",
    "\n",
    "# Neon calibration\n",
    "colors_degrees[\"calibration_red_8_degrees\"] = 2390\n",
    "colors_degrees[\"calibration_yellow_22_degrees\"] = 2152\n",
    "\n",
    "# Mercury lamp\n",
    "colors_degrees[\"mercury_purple_6_degrees\"] = 292\n",
    "colors_degrees[\"mercury_yellow_1_degrees\"] = 2120\n",
    "\n",
    "# Hydrogen lamp\n",
    "colors_degrees[\"hydrogen_red_alpha\"] = 2450\n",
    "colors_degrees[\"hydrogen_blue_betta\"] = 1460\n",
    "colors_degrees[\"hydrogen_purple_gamma\"] = 813\n",
    "\n",
    "# Iodine lamp\n",
    "colors_degrees[\"iodine_first_degrees\"] = 2287\n",
    "colors_degrees[\"iodine_six_degrees\"] = 2171\n",
    "colors_degrees[\"iodine_boundary_degrees\"] = 1729"
   ]
  },
  {
   "cell_type": "code",
   "execution_count": 28,
   "metadata": {},
   "outputs": [
    {
     "name": "stdout",
     "output_type": "stream",
     "text": [
      "calibration_red_8_nm 640.224\n",
      "calibration_yellow_22_nm 585.249\n",
      "mercury_purple_6_nm 155.6124453781511\n",
      "mercury_yellow_1_nm 577.8574033613446\n",
      "hydrogen_red_alpha 654.083243697479\n",
      "hydrogen_blue_betta 425.40572268907556\n",
      "hydrogen_purple_gamma 275.9568781512604\n",
      "iodine_first_nm 616.4322983193277\n",
      "iodine_six_nm 589.6377605042017\n",
      "iodine_boundary_nm 487.5413319327731\n"
     ]
    }
   ],
   "source": [
    "colors_nm = {}\n",
    "nm_div_degrees = (640.224 - 585.249) / (colors_degrees[\"calibration_red_8_degrees\"] - colors_degrees[\"calibration_yellow_22_degrees\"])\n",
    "\n",
    "for color in colors_degrees:\n",
    "    colors_nm[color.replace('_degrees', '_nm')] = 585.249 + (colors_degrees[color] - colors_degrees[\"calibration_yellow_22_degrees\"]) * nm_div_degrees\n",
    "\n",
    "for color in colors_nm:\n",
    "    print(color, colors_nm[color])"
   ]
  },
  {
   "cell_type": "markdown",
   "metadata": {},
   "source": [
    "Тут есть один выбор в \"ртуть, фиолетовый, 6 номер\" (\"mercury_purple_6\"). Желтый у ртути попал очень точно, фиолетовый скорее всего похоже на 1292, вместо 292."
   ]
  }
 ],
 "metadata": {
  "kernelspec": {
   "display_name": "Python 3",
   "language": "python",
   "name": "python3"
  },
  "language_info": {
   "codemirror_mode": {
    "name": "ipython",
    "version": 3
   },
   "file_extension": ".py",
   "mimetype": "text/x-python",
   "name": "python",
   "nbconvert_exporter": "python",
   "pygments_lexer": "ipython3",
   "version": "3.11.0"
  },
  "orig_nbformat": 4
 },
 "nbformat": 4,
 "nbformat_minor": 2
}
